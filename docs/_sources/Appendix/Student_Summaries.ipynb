{
 "cells": [
  {
   "attachments": {},
   "cell_type": "markdown",
   "metadata": {},
   "source": [
    "# Student Participation (Spring 2023)\n",
    "Students will work in pairs to produce summaries of each class meeting.  These summaries should list the main topics discussed and emphasized ideas/examples during the respective lecture.  Students are encouraged to be as detailed as possible without being overly verbose.  The summaries should be submitted as a [pull request](https://docs.github.com/en/codespaces/the-githubdev-web-based-editor) from **your forked repository** before the next class meeting.\n"
   ]
  },
  {
   "attachments": {},
   "cell_type": "markdown",
   "metadata": {},
   "source": [
    "## Jan 10\n",
    "### Class Overview\n",
    "- Introductions\n",
    "  - Dr. Quarles told us about his research.\n",
    "  - He has contributed to several exoplanet discoveries with Kepler and even an exomoon candidate.\n",
    "  - He studies planets with 2 stars in particular, and his latest research has investigated how many moons that could potentially orbit the Earth.  The answer is 3!\n",
    "  - He has studied how obliquity can affect a planet's climate.\n",
    "- Syllabus\n",
    "  - The class syllabus provides us with a roadmap for the course.  \n",
    "  - The course is structured for the students to learn through class participation/activities and homework. \n",
    "  - Student learning will be assessed through exams and in-class presentations.\n",
    "- Course website\n",
    "  - Class notes are provided on the course website, which includes web urls (for jargon) and video explanations of some topics.\n",
    "- GitHub accounts\n",
    "  - GitHub is a convenient way to store and share information.\n",
    "  - Create GitHub account and fork repository.\n"
   ]
  },
  {
   "attachments": {},
   "cell_type": "markdown",
   "metadata": {},
   "source": [
    "## Jan 12 (Freeman)\n",
    "### Intro to Cosmology I\n",
    "\n",
    "**1.1 What is Cosmology?** \n",
    "\n",
    "- Cosmology is the science of the origin and development of our universe and other universes. \n",
    "\n",
    "- Need to know knowledge of the universe because there is chaos in the world. \n",
    "\n",
    "**1.1.1 How does the Universe work?** \n",
    "\n",
    "- Einstein-one of the most famous physicist in modern physics \n",
    "\n",
    "- To answer why the Sun is responsible, many cultures deify the Sun and create rituals (Whenever you see the Sun in the sky, you get warm) \n",
    "\n",
    "- There were some other stars that appeared to wander through the night sky, which they called the planets. \n",
    "\n",
    "- The heliocentric description of how the Universe works would eventually overtake the geocentric view because of technological advancements that improved the observations. \n",
    "\n",
    "**1.1.2 Where did everything come from?** \n",
    "\n",
    "- Another purpose of cosmology is to explain the origin of everything. \n",
    "\n",
    "- Ancient cultures developed their stories using observations in their daily lives. \n",
    "\n",
    "- Galaxies form through clusters of stars interacting with a special substance called dark matter, but the details of the dark matter are still being determined. \n",
    "\n",
    "- Larger structures form clusters of galaxies that all originated from an immense expansion of the Universe from a big bang event. \n",
    "\n",
    "**1.1.3 How does the origin story explain the current structure?** \n",
    "\n",
    "- Around 100 years ago, the Universe consisted of only the Milky Way, and it was static (neither expanding nor contracting). \n",
    "\n",
    "- The Universe was much larger than assumed and it was expanding. This meant that the Universe could have a beginning and thus, an origin story was not completely a human invention. \n",
    "\n",
    "- A changing Universe means that we can map effects to potential causes using observations of the faintest galaxies. \n",
    "\n",
    "- Dark matter affects the formation and rotation of galaxies. \n",
    "\n",
    "- Dark energy makes up around 70% of everything \n",
    "\n",
    "**1.2 Cosmology among many cultures**\n",
    "\n",
    "**1.2.1 Ancient Egypt**\n",
    "\n",
    "- Early Egyptian culture developed a cosmology during the 2nd and 3rd millennia B.C.\n",
    "\n",
    "- The key to the rediscovery of ancient Egyptian culture was with the Rosetta Stone, which was a monument made of stone or wooden slab\n",
    "\n",
    "- The pharaohs (i.e., Egyptian kings) used some of the Egyptian gods (e.g., Osiris, Isis, Ptah, horus and Anubis) to establish their right to rule. From there, the monuments of Egypt were built, which included the pyramids and temples. \n",
    "\n",
    "- Osiris controlled fertility, agriculture, and the afterlife representing the forces of order, while Isis represented motherhood and is the sister-wife of Osiris. The brother of Osiris was Set, who controlled the deserts, violence, and foreigners representing the forces of chaos, with his sister-wife Nephthys who is associated with mourning, night, childbirth, and service to the temple."
   ]
  },
  {
   "attachments": {},
   "cell_type": "markdown",
   "metadata": {},
   "source": [
    "## Jan 17 (Scarlett & Norlund)\n",
    "### Intro to Cosmology II"
   ]
  },
  {
   "attachments": {},
   "cell_type": "markdown",
   "metadata": {},
   "source": [
    "## Jan 19 (Carey & Kennedy)\n",
    "### Special Theory of Relativity I"
   ]
  },
  {
   "attachments": {},
   "cell_type": "markdown",
   "metadata": {},
   "source": [
    "## Jan 24 (Freeman & Leonard)\n",
    "### Special Theory of Relativity II"
   ]
  },
  {
   "attachments": {},
   "cell_type": "markdown",
   "metadata": {},
   "source": [
    "## Jan 26 (Norlund & Carey)\n",
    "### General Relativity I"
   ]
  },
  {
   "attachments": {},
   "cell_type": "markdown",
   "metadata": {},
   "source": [
    "## Jan 31 (Scarlett & Leonard)\n",
    "### General Relativity II"
   ]
  },
  {
   "attachments": {},
   "cell_type": "markdown",
   "metadata": {},
   "source": [
    "## Feb 2 (Kennedy & Freeman)\n",
    "### Black Holes I"
   ]
  },
  {
   "attachments": {},
   "cell_type": "markdown",
   "metadata": {},
   "source": [
    "## Feb 7 (Carey & Leonard)\n",
    "### Black Holes II"
   ]
  },
  {
   "attachments": {},
   "cell_type": "markdown",
   "metadata": {},
   "source": [
    "## Feb 9 (Freeman & Norlund)\n",
    "### Nature of Galaxies I"
   ]
  },
  {
   "attachments": {},
   "cell_type": "markdown",
   "metadata": {},
   "source": [
    "## Feb 14 (Scarlett & Kennedy)\n",
    "### Nature of Galaxies II"
   ]
  },
  {
   "attachments": {},
   "cell_type": "markdown",
   "metadata": {},
   "source": [
    "## Feb 16 (Leonard & Freeman)\n",
    "### Nature of Galaxies III"
   ]
  },
  {
   "attachments": {},
   "cell_type": "markdown",
   "metadata": {},
   "source": [
    "## Feb 21 (Exam I)"
   ]
  },
  {
   "attachments": {},
   "cell_type": "markdown",
   "metadata": {},
   "source": [
    "## Feb 23 (Kennedy & Carey)\n",
    "### Milky Way Galaxy I"
   ]
  },
  {
   "attachments": {},
   "cell_type": "markdown",
   "metadata": {},
   "source": [
    "## Feb 28 (Norlund & Scarlett)\n",
    "### Milky Way Galaxy II"
   ]
  },
  {
   "attachments": {},
   "cell_type": "markdown",
   "metadata": {},
   "source": [
    "## Mar 2 (Freeman & Kennedy)\n",
    "### Milky Way Galaxy III"
   ]
  },
  {
   "attachments": {},
   "cell_type": "markdown",
   "metadata": {},
   "source": [
    "## Mar 7 (Scarlett & Leonard)\n",
    "### Galactic Evolution I"
   ]
  },
  {
   "attachments": {},
   "cell_type": "markdown",
   "metadata": {},
   "source": [
    "## Mar 9 (Carey & Norlund)\n",
    "### Galactic Evolution II\n",
    "\n",
    "### Astropy (Teaching) Presentations"
   ]
  },
  {
   "attachments": {},
   "cell_type": "markdown",
   "metadata": {},
   "source": [
    "## Mar 14 & 16 (Spring Break)"
   ]
  },
  {
   "attachments": {},
   "cell_type": "markdown",
   "metadata": {},
   "source": [
    "## Mar 21 (Kennedy & Scarlett)\n",
    "### Galactic Evolution III\n",
    "\n",
    "### Astropy (Teaching) Presentations"
   ]
  },
  {
   "attachments": {},
   "cell_type": "markdown",
   "metadata": {},
   "source": [
    "## Mar 23 (Norlund & Freeman)\n",
    "### Structure of the Universe I"
   ]
  },
  {
   "attachments": {},
   "cell_type": "markdown",
   "metadata": {},
   "source": [
    "## Mar 28 (Leonard & Carey)\n",
    "### Structure of the Universe II"
   ]
  },
  {
   "attachments": {},
   "cell_type": "markdown",
   "metadata": {},
   "source": [
    "## Mar 30 (Scarlett & Norlund)\n",
    "### Structure of the Universe III"
   ]
  },
  {
   "attachments": {},
   "cell_type": "markdown",
   "metadata": {},
   "source": [
    "## Apr 4 (Carey & Kennedy)\n",
    "### Active Galaxies I"
   ]
  },
  {
   "attachments": {},
   "cell_type": "markdown",
   "metadata": {},
   "source": [
    "## Apr 6 (Freeman & Leonard)\n",
    "### Active Galaxies II"
   ]
  },
  {
   "attachments": {},
   "cell_type": "markdown",
   "metadata": {},
   "source": [
    "## Apr 11 (Norlund & Carey)\n",
    "### Active Galaxies III"
   ]
  },
  {
   "attachments": {},
   "cell_type": "markdown",
   "metadata": {},
   "source": [
    "## Apr 13 (Exam II)"
   ]
  },
  {
   "attachments": {},
   "cell_type": "markdown",
   "metadata": {},
   "source": [
    "## Apr 18 (Leonard & Scarlett)\n",
    "### Cosmology I"
   ]
  },
  {
   "attachments": {},
   "cell_type": "markdown",
   "metadata": {},
   "source": [
    "## Apr 20 (Kennedy & Freeman)\n",
    "### Cosmology II\n",
    "\n",
    "### Paper Presentations"
   ]
  },
  {
   "attachments": {},
   "cell_type": "markdown",
   "metadata": {},
   "source": [
    "## Apr 25 (Carey & Leonard)\n",
    "### The Early Universe I \n",
    "\n",
    "### Paper Presentations"
   ]
  },
  {
   "attachments": {},
   "cell_type": "markdown",
   "metadata": {},
   "source": [
    "## Apr 27 (Freeman & Norlund)\n",
    "### The Early Universe II\n",
    "\n",
    "### Paper Presentations"
   ]
  },
  {
   "attachments": {},
   "cell_type": "markdown",
   "metadata": {},
   "source": [
    "## May 5 (Final Exam)"
   ]
  }
 ],
 "metadata": {
  "kernelspec": {
   "display_name": "Python 3.8.8 ('base')",
   "language": "python",
   "name": "python3"
  },
  "language_info": {
   "codemirror_mode": {
    "name": "ipython",
    "version": 3
   },
   "file_extension": ".py",
   "mimetype": "text/x-python",
   "name": "python",
   "nbconvert_exporter": "python",
   "pygments_lexer": "ipython3",
   "version": "3.8.8 (default, Apr 13 2021, 15:08:03) [MSC v.1916 64 bit (AMD64)]"
  },
  "orig_nbformat": 4,
  "vscode": {
   "interpreter": {
    "hash": "be4bb3c2f54353c26a4bcaba16037df563cd9cf9cf84d3cc553cf8d78d2d3996"
   }
  }
 },
 "nbformat": 4,
 "nbformat_minor": 2
}
