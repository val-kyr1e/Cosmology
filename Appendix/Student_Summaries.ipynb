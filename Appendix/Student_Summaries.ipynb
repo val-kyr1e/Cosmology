{
 "cells": [
  {
   "attachments": {},
   "cell_type": "markdown",
   "metadata": {},
   "source": [
    "# Student Participation (Spring 2023)\n",
    "Students will work in pairs to produce summaries of each class meeting.  These summaries should list the main topics discussed and emphasized ideas/examples during the respective lecture.  Students are encouraged to be as detailed as possible without being overly verbose.  The summaries should be submitted as a [pull request](https://docs.github.com/en/codespaces/the-githubdev-web-based-editor) from **your forked repository** before the next class meeting.\n"
   ]
  },
  {
   "attachments": {},
   "cell_type": "markdown",
   "metadata": {},
   "source": [
    "## Jan 10\n",
    "### Class Overview\n",
    "- Introductions\n",
    "  - Dr. Quarles told us about his research.\n",
    "  - He has contributed to several exoplanet discoveries with Kepler and even an exomoon candidate.\n",
    "  - He studies planets with 2 stars in particular, and his latest research has investigated how many moons that could potentially orbit the Earth.  The answer is 3!\n",
    "  - He has studied how obliquity can affect a planet's climate.\n",
    "- Syllabus\n",
    "  - The class syllabus provides us with a roadmap for the course.  \n",
    "  - The course is structured for the students to learn through class participation/activities and homework. \n",
    "  - Student learning will be assessed through exams and in-class presentations.\n",
    "- Course website\n",
    "  - Class notes are provided on the course website, which includes web urls (for jargon) and video explanations of some topics.\n",
    "- GitHub accounts\n",
    "  - GitHub is a convenient way to store and share information.\n",
    "  - Create GitHub account and fork repository.\n"
   ]
  },
  {
   "attachments": {},
   "cell_type": "markdown",
   "metadata": {},
   "source": [
    "## Jan 12 (Freeman)\n",
    "### Intro to Cosmology I\n",
    "\n",
    "**1.1 What is Cosmology?** \n",
    "\n",
    "- Cosmology is the science of the origin and development of our universe and other universes. \n",
    "\n",
    "- Need to know knowledge of the universe because there is chaos in the world. \n",
    "\n",
    "**1.1.1 How does the Universe work?** \n",
    "\n",
    "- Einstein-one of the most famous physicist in modern physics \n",
    "\n",
    "- To answer why the Sun is responsible, many cultures deify the Sun and create rituals (Whenever you see the Sun in the sky, you get warm) \n",
    "\n",
    "- There were some other stars that appeared to wander through the night sky, which they called the planets. \n",
    "\n",
    "- The heliocentric description of how the Universe works would eventually overtake the geocentric view because of technological advancements that improved the observations. \n",
    "\n",
    "**1.1.2 Where did everything come from?** \n",
    "\n",
    "- Another purpose of cosmology is to explain the origin of everything. \n",
    "\n",
    "- Ancient cultures developed their stories using observations in their daily lives. \n",
    "\n",
    "- Galaxies form through clusters of stars interacting with a special substance called dark matter, but the details of the dark matter are still being determined. \n",
    "\n",
    "- Larger structures form clusters of galaxies that all originated from an immense expansion of the Universe from a big bang event. \n",
    "\n",
    "**1.1.3 How does the origin story explain the current structure?** \n",
    "\n",
    "- Around 100 years ago, the Universe consisted of only the Milky Way, and it was static (neither expanding nor contracting). \n",
    "\n",
    "- The Universe was much larger than assumed and it was expanding. This meant that the Universe could have a beginning and thus, an origin story was not completely a human invention. \n",
    "\n",
    "- A changing Universe means that we can map effects to potential causes using observations of the faintest galaxies. \n",
    "\n",
    "- Dark matter affects the formation and rotation of galaxies. \n",
    "\n",
    "- Dark energy makes up around 70% of everything \n",
    "\n",
    "**1.2 Cosmology among many cultures**\n",
    "\n",
    "**1.2.1 Ancient Egypt**\n",
    "\n",
    "- Early Egyptian culture developed a cosmology during the 2nd and 3rd millennia B.C.\n",
    "\n",
    "- The key to the rediscovery of ancient Egyptian culture was with the Rosetta Stone, which was a monument made of stone or wooden slab\n",
    "\n",
    "- The pharaohs (i.e., Egyptian kings) used some of the Egyptian gods (e.g., Osiris, Isis, Ptah, horus and Anubis) to establish their right to rule. From there, the monuments of Egypt were built, which included the pyramids and temples. \n",
    "\n",
    "- Osiris controlled fertility, agriculture, and the afterlife representing the forces of order, while Isis represented motherhood and is the sister-wife of Osiris. The brother of Osiris was Set, who controlled the deserts, violence, and foreigners representing the forces of chaos, with his sister-wife Nephthys who is associated with mourning, night, childbirth, and service to the temple."
   ]
  },
  {
   "attachments": {},
   "cell_type": "markdown",
   "metadata": {},
   "source": [
    "## Jan 17 (Scarlett & Norlund)\n",
    "### Intro to Cosmology II\n",
    "\n",
    "**1.2.3. Aristotelian Cosmology**\n",
    "\n",
    "-\tAristotle’s writings influenced progress of science for 1000 years because they were systematic and had brought forth a range of knowledge.\n",
    "-\tMost important source of cosmology from Aristotle was his work De Caelo, in which the longest chapter was over the celestial sphere and how the Earth rotates at the center of the universe.\n",
    "-\tAristotle didn’t believe that the Earth rotated or orbited anything, but was persuaded that stars would be subject to parallax shifts if the Earth did rotate and move in an orbit.\n",
    "-\tHe thought the universe to be built layer upon layer over a spherical Earth.\n",
    "-\tHe believed the Sun was a bright big planet.\n",
    "-\tPossibly thought that planets were self-luminous.\n",
    "-\tIn Aristotle’s Metaphysics he accepted the theory of Callippus’ 55 concentric spheres.\n",
    "-\tCallippus viewed the universe being made of spherical shells in which some of the shells carry planets.\n",
    "-\tThe first sphere was “heaven” which had a perpetual circular movement that it shared with the other spheres.\n",
    "-\tThese spheres were moved by “gods”. \n",
    "\n",
    "**1.2.4. Ancient China**\n",
    "\n",
    "-\tMost of the creation story is over Pangu and the cosmic egg.\n",
    "-\tAstronomy was related to the government/state with the positions of the  imperial astronomer and the imperial astrologer.\n",
    "-\tAstronomer observed planetary motions (for good and bad omens)\n",
    "-\tAstrologer observed the weather (clouds)\n",
    "-\tThese positions lasted for over 2000 years and they headed large staffs as they were the keepers of time.\n",
    "-\tWater clocks were developed to improve measurements relative to the motion of the heavens.\n",
    "-\t4th century BCE onwards saw an increase of astronomical works\n",
    "-\tKai Thien cosmology had the heavens as a hemispherical bowl over the hemispherical earth.\n",
    "-\tOldest surviving description of the heavens as completely spherical is by Zhang Heng.\n",
    "-\tThe sphere’s circumference is divided into 365.25 units corresponding to the distance the Sun moves in one day.\n",
    "-\tZhang was the first to turn an armillary sphere by a water wheel.\n",
    "-\tBy 960-1126 CE there were two observatories in the capital that would compare observations and results.\n",
    "-\tWhen a new imperial astronomer took their position they discovered that the previous two sets of astronomers had copied each others’ reports.\n",
    "\n",
    "**1.2.5. Pre-Columbian America**\n",
    "\n",
    "-\tLimited information on pre-Colombian America, and is subject to change when new information is discovered.\n",
    "-\tOlmec, Zapotec, Aztec, Maya had a similar cosmology of a layered universe.\n",
    "-\tLayers went from Earth as the bottom to the Moon, clouds, stars, the Sun, Venus, comets, and on until layer 13 which contained the domain of “god”.\n",
    "-\tThe Mayans developed ways to analyze astronomical events using math, and they produced a series of books and only 5 survived Spanish conquests/neglect.\n",
    "-\tEach book was a piece of folded bark about 6.7 m long\n",
    "-\tOne book contained a lunar, solar, and a Venus calendar.\n",
    "-\tAnother book the Dresden Codex from the 13th to 14th century contained drawings of the Mayan gods \n",
    "-\tTheir almanacs contained information on various things net-making, fire drilling, and marriage.\n",
    "\n",
    "**1.2.6 Medieval and Early Renaissance Europe**\n",
    "\n",
    "-\tCosmology went from having a flat Earth to a spherical Earth, but only after a lot of discourse as in the book of Genesis “waters were suspended above the firmament.”\n",
    "-\tBoethius adopted Aristotle’s cosmology and proposed that the universe was governed by cause and effect.\n",
    "-\tIn the 13th century, Richard of Wallingford constructed a mechanical clock model of the universe which purportedly showed planetary movements and changing tides.\n",
    "-\tClock struck on a 24 hour astronomer system rather than common seasonal hours.\n",
    "-\tIt had spiral gears, and an oval wheel to give a carefully calculated variable velocity for the Moon’s motion around an astrolabe dial.\n",
    "-\tThe Astrarium was later constructed by Giovanni de Dondi which had a seven-sided frame, with a dial for each planet, the Sun, and the Moon.\n",
    "-\tThe Astrarium used a Ptolemaic diagram for the planetary mechanism which failed to represent the universe as a single system.\n",
    "\n",
    "**1.2.7 Galileo, the Telescope, and Cosmology**\n",
    "\n",
    "-\tGeocentrism vs. Heliocentrism\n",
    "-\tKepler introduced new phenomena which weren’t explainable by Aristotelian cosmology which were solar coronas and the appearance of new stars.\n",
    "-\tGalileo used his telescope to discover mountains on the moon, that the Milky Way was separate stars, absence of parallax in comets, and that Jupiter had moons.\n",
    "-\tGalileo saw the phases of Venus which caused problems because the various collinear arrangements of the Sun, Venus and the Earth are limited.\n",
    "-\tOnly Ptolemaic, Copernican, and Tychonic systems allowed Venus to lie in between the Earth and the Sun, but only the Copernican model could show the full set of phases for Venus.\n",
    "\n",
    "**1.2.8 Cosmology in Bentley and Newton**\n",
    "\n",
    "-\t1685 Newton had written De mundi systemate to show that stars lie at greater distances from the Sun than what was thought.\n",
    "-\tThis photometric method compared the brightness of the Sun, with that of the star, and on the inverse-square law of photometry.\n",
    "-\tNewton used this method to discover that the distance of Sirius was a million times that of the mean distance of the Sun from the Earth.\n",
    "-\tHe observed that the gravitational attraction of stars on one another was minimal or else everything would collapse in on itself. \n",
    "-\t1692 Richard Bentley asked Newton for advice of Boyle lectures over what happened if matter were spread uniformly throughout space and allowed to move under gravity\n",
    "-\tIf  space were limited, then it would fall into one large spherical mass.\n",
    "-\tIf space were infinite, then all the masses could stay in place.\n",
    "-\tThis problem would later be known as Bentley’s paradox.\n",
    "\n",
    "**1.2.9 The Renewal of Cosmology**\n",
    "\n",
    "-\tEinstein’s special and general relativity developed the idea that a system of bodies should be independent of the way an observer studying the bodies is moving.\n",
    "-\tIn Special Relativity he introduced that the speed of light is a constant in a vacuum and doesn’t respond to relative motion.\n",
    "-\tThe curvature f space-time in General Relativity developed into a feature such that a particle moving freely under gravity follows a geodesic (the shortest line between two points in curved space-time).\n",
    "-\tIntroduced cosmological constant saying that the universe was static even though it’s not\n",
    "\n",
    "**1.3 Differences in Historical, Scientific, and Mathematical Cosmology**\n",
    "\n",
    "**1.3.1 Connections between Astronomy and the State**\n",
    "\n",
    "-\tAstronomy typically began as a way of understanding the world so that agricultural production could increase.\n",
    "-\tIndividuals were trained in Astronomy to advise rulers to act when necessary as they knew the best times to plant and harvest crops. \n",
    "-\tAstronomy was indistinguishable from magic\n",
    "-\tReligion would seek to explain why things exist in the universe and how the universe works\n",
    "-\tHistorical cosmology is associated with myth making\n",
    "-\tStories would have to be changed based on public opinion.\n",
    "-\tEuropean renaissance period\n",
    "-\tAstronomy is correlative which means they fall within the natural pattern recognition of human observers.\n",
    "-\t If A only happens when B is present, we might infer that B causes A to occur.\n",
    "-\tPeople thought astrology predicted people’s lives and lived by horoscopes\n",
    "-\tTelescope was developed for nautical purposes\n",
    "-\tGalileo was hired to make a telescope for a noble so he could be a creep and look at people across a lake.\n",
    "-\tChange from empiricism to the fore which allowed cosmology to be corrected\n",
    "\n",
    "**1.3.2 Models of the Universe**\n",
    "\n",
    "-\tIn 1918 Sir Arthur Eddington wrote a report later called Mathematical Theory of Relativity.\n",
    "-\tNo solution for field equations that described the universe a being without matter\n",
    "-\tCosmological constant was a Trojan horse bc it had the answer to an undiscovered phenomenon\n",
    "-\tUniverse has three separate fates\n",
    "    -\tClosed, gravity dominated leading to Big Crunch\n",
    "    -\tOpen, whatever is responsible for the cosmological constant wins and the universe continues to expand\n",
    "    -\tStatic, gravity and comic repulsion balance out\n"
   ]
  },
  {
   "cell_type": "code",
   "execution_count": null,
   "metadata": {
    "vscode": {
     "languageId": "plaintext"
    }
   },
   "outputs": [],
   "source": []
  },
  {
   "attachments": {},
   "cell_type": "markdown",
   "metadata": {},
   "source": [
    "## Jan 19 (Carey & Kennedy)\n",
    "### Special Theory of Relativity I"
   ]
  },
  {
   "attachments": {},
   "cell_type": "markdown",
   "metadata": {},
   "source": [
    "## Jan 24 (Freeman & Leonard)\n",
    "### Special Theory of Relativity II"
   ]
  },
  {
   "attachments": {},
   "cell_type": "markdown",
   "metadata": {},
   "source": [
    "## Jan 26 (Norlund & Carey)\n",
    "### General Relativity I"
   ]
  },
  {
   "attachments": {},
   "cell_type": "markdown",
   "metadata": {},
   "source": [
    "## Jan 31 (Scarlett & Leonard)\n",
    "### General Relativity II"
   ]
  },
  {
   "attachments": {},
   "cell_type": "markdown",
   "metadata": {},
   "source": [
    "## Feb 2 (Kennedy & Freeman)\n",
    "### Black Holes I"
   ]
  },
  {
   "attachments": {},
   "cell_type": "markdown",
   "metadata": {},
   "source": [
    "## Feb 7 (Carey & Leonard)\n",
    "### Black Holes II"
   ]
  },
  {
   "attachments": {},
   "cell_type": "markdown",
   "metadata": {},
   "source": [
    "## Feb 9 (Freeman & Norlund)\n",
    "### Nature of Galaxies I"
   ]
  },
  {
   "attachments": {},
   "cell_type": "markdown",
   "metadata": {},
   "source": [
    "## Feb 14 (Scarlett & Kennedy)\n",
    "### Nature of Galaxies II"
   ]
  },
  {
   "attachments": {},
   "cell_type": "markdown",
   "metadata": {},
   "source": [
    "## Feb 16 (Leonard & Freeman)\n",
    "### Nature of Galaxies III"
   ]
  },
  {
   "attachments": {},
   "cell_type": "markdown",
   "metadata": {},
   "source": [
    "## Feb 21 (Exam I)"
   ]
  },
  {
   "attachments": {},
   "cell_type": "markdown",
   "metadata": {},
   "source": [
    "## Feb 23 (Kennedy & Carey)\n",
    "### Milky Way Galaxy I"
   ]
  },
  {
   "attachments": {},
   "cell_type": "markdown",
   "metadata": {},
   "source": [
    "## Feb 28 (Norlund & Scarlett)\n",
    "### Milky Way Galaxy II"
   ]
  },
  {
   "attachments": {},
   "cell_type": "markdown",
   "metadata": {},
   "source": [
    "## Mar 2 (Freeman & Kennedy)\n",
    "### Milky Way Galaxy III"
   ]
  },
  {
   "attachments": {},
   "cell_type": "markdown",
   "metadata": {},
   "source": [
    "## Mar 7 (Scarlett & Leonard)\n",
    "### Galactic Evolution I"
   ]
  },
  {
   "attachments": {},
   "cell_type": "markdown",
   "metadata": {},
   "source": [
    "## Mar 9 (Carey & Norlund)\n",
    "### Galactic Evolution II\n",
    "\n",
    "### Astropy (Teaching) Presentations"
   ]
  },
  {
   "attachments": {},
   "cell_type": "markdown",
   "metadata": {},
   "source": [
    "## Mar 14 & 16 (Spring Break)"
   ]
  },
  {
   "attachments": {},
   "cell_type": "markdown",
   "metadata": {},
   "source": [
    "## Mar 21 (Kennedy & Scarlett)\n",
    "### Galactic Evolution III\n",
    "\n",
    "### Astropy (Teaching) Presentations"
   ]
  },
  {
   "attachments": {},
   "cell_type": "markdown",
   "metadata": {},
   "source": [
    "## Mar 23 (Norlund & Freeman)\n",
    "### Structure of the Universe I"
   ]
  },
  {
   "attachments": {},
   "cell_type": "markdown",
   "metadata": {},
   "source": [
    "## Mar 28 (Leonard & Carey)\n",
    "### Structure of the Universe II"
   ]
  },
  {
   "attachments": {},
   "cell_type": "markdown",
   "metadata": {},
   "source": [
    "## Mar 30 (Scarlett & Norlund)\n",
    "### Structure of the Universe III"
   ]
  },
  {
   "attachments": {},
   "cell_type": "markdown",
   "metadata": {},
   "source": [
    "## Apr 4 (Carey & Kennedy)\n",
    "### Active Galaxies I"
   ]
  },
  {
   "attachments": {},
   "cell_type": "markdown",
   "metadata": {},
   "source": [
    "## Apr 6 (Freeman & Leonard)\n",
    "### Active Galaxies II"
   ]
  },
  {
   "attachments": {},
   "cell_type": "markdown",
   "metadata": {},
   "source": [
    "## Apr 11 (Norlund & Carey)\n",
    "### Active Galaxies III"
   ]
  },
  {
   "attachments": {},
   "cell_type": "markdown",
   "metadata": {},
   "source": [
    "## Apr 13 (Exam II)"
   ]
  },
  {
   "attachments": {},
   "cell_type": "markdown",
   "metadata": {},
   "source": [
    "## Apr 18 (Leonard & Scarlett)\n",
    "### Cosmology I"
   ]
  },
  {
   "attachments": {},
   "cell_type": "markdown",
   "metadata": {},
   "source": [
    "## Apr 20 (Kennedy & Freeman)\n",
    "### Cosmology II\n",
    "\n",
    "### Paper Presentations"
   ]
  },
  {
   "attachments": {},
   "cell_type": "markdown",
   "metadata": {},
   "source": [
    "## Apr 25 (Carey & Leonard)\n",
    "### The Early Universe I \n",
    "\n",
    "### Paper Presentations"
   ]
  },
  {
   "attachments": {},
   "cell_type": "markdown",
   "metadata": {},
   "source": [
    "## Apr 27 (Freeman & Norlund)\n",
    "### The Early Universe II\n",
    "\n",
    "### Paper Presentations"
   ]
  },
  {
   "attachments": {},
   "cell_type": "markdown",
   "metadata": {},
   "source": [
    "## May 5 (Final Exam)"
   ]
  }
 ],
 "metadata": {
  "kernelspec": {
   "display_name": "Python 3.8.8 ('base')",
   "language": "python",
   "name": "python3"
  },
  "language_info": {
   "codemirror_mode": {
    "name": "ipython",
    "version": 3
   },
   "file_extension": ".py",
   "mimetype": "text/x-python",
   "name": "python",
   "nbconvert_exporter": "python",
   "pygments_lexer": "ipython3",
   "version": "3.8.8 (default, Apr 13 2021, 15:08:03) [MSC v.1916 64 bit (AMD64)]"
  },
  "orig_nbformat": 4,
  "vscode": {
   "interpreter": {
    "hash": "be4bb3c2f54353c26a4bcaba16037df563cd9cf9cf84d3cc553cf8d78d2d3996"
   }
  }
 },
 "nbformat": 4,
 "nbformat_minor": 2
}
