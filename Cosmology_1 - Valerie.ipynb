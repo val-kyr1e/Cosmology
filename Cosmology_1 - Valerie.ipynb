{
  "nbformat": 4,
  "nbformat_minor": 0,
  "metadata": {
    "colab": {
      "provenance": [],
      "authorship_tag": "ABX9TyOHKHv8+hU16VOwUDo3g0b/",
      "include_colab_link": true
    },
    "kernelspec": {
      "name": "python3",
      "display_name": "Python 3"
    },
    "language_info": {
      "name": "python"
    }
  },
  "cells": [
    {
      "cell_type": "markdown",
      "metadata": {
        "id": "view-in-github",
        "colab_type": "text"
      },
      "source": [
        "<a href=\"https://colab.research.google.com/github/val-kyr1e/Cosmology/blob/main/Cosmology_1.ipynb\" target=\"_parent\"><img src=\"https://colab.research.google.com/assets/colab-badge.svg\" alt=\"Open In Colab\"/></a>"
      ]
    },
    {
      "cell_type": "markdown",
      "source": [
        "**1) Describe the main components of a cosmology. What function does a cosmology serve for a culture?**\n",
        "\n",
        "Cosmology is a large messy thing with weird and complicated explanations. Their purposes mainly focus on reasons for why things exist, and how they exist. In ancient Greece the tale of Hades and Persephone is largely credited as being a story describing why changes in the seasons exist. Likewise there's an old Chinese myth describing the Milky Way's appearance in the night sky. It's about two people in love, a cowherd and a weaver who were then separated by a river. Every seven years and seven months a flock of magpies formed a bridge so the two could reunite just for a single day. ([Cowherd and Weaver Girl](https://en.wikipedia.org/wiki/The_Cowherd_and_the_Weaver_Girl)). The Milky Way was the river separating the two lovers, with the two representing the stars Vega, and Altair. Cosmology is a story meant to give meaning to the universe in a way humans could understand. It can stem from a religious origin or it can come from a scientific origin. It can serve any purpose depending on who is using the cosmology and how. Demagogues can use it for power, or saints can use it to spread their religion. Madmen can use it to excuse murder, or mothers can use it to comfort their children in a thuderstorm. Cosmology is from humans and its functions vary as much as humanity. For us, in this class, Cosmology is a way to use scientific thought and reasoning to understand the Universe and its functions."
      ],
      "metadata": {
        "id": "ADJtMsIdh9cZ"
      }
    },
    {
      "cell_type": "markdown",
      "source": [
        "**2) Summarize how cosmologies are different over time and across cultures.**\n",
        "\n",
        "It's hard to do this. After all, could you summarize every star in the sky? The life of every person who has ever drawn breath? The biggest differences come from change. If an empire falls it may become mythologized, and its rulers deified with the stories exemplifying how people now should act. Cultures across the world live in different regions, where the climate is different. In Egypt the Nile and the Sun were highly regarded for their life giving properties. In Rome it was Jupiter and Mars for their might and ability to wage war. A cosmology is a messy summarization of how a culture, a group of people, interprets the world that they live in."
      ],
      "metadata": {
        "id": "dzE_l1kIoRQm"
      }
    },
    {
      "cell_type": "markdown",
      "source": [
        "**3) Explain how observations in cosmology can influence the affairs of state.**\n",
        "\n",
        "Galileo is, to me, undoubtedly smart. In his lifetime by standing on the achievements of all those before him, he was able to fight nearly 1200 years of imperial power. The papacy used to be just as much a political, and military power as it was a spiritual power. While it may have only directly controlled portions of Italy, it had influence over much of western, and Central Europe. Whatever spiritual doctrine it deemed appropriate was what likely became engrained as right in the European world. Barring civil and religious wars that was the norm. In the specific instance of Galileo, observing Venus' phases, and the moons of Jupiter it broke an entire cosmology, and an entire religion. If anyone could prove that the Earth orbited the Sun, then who would listen to those telling them the Sun circled the Earth? That it was made by a deity to be the center of the universe because humans were just that special? "
      ],
      "metadata": {
        "id": "pHaXQ7CGoXxC"
      }
    },
    {
      "cell_type": "markdown",
      "source": [
        "**4) Summarize the changes and problems of cosmology over the last century**\n",
        "\n",
        "Cosmology has changed from being something so based in religion and spiritualism to being based more in scientific thought. Questions of our universe went from 'why does a deity do this?' to 'how does our universe at large work?' We are no longer looking at our solar system and thinking everything worked in set mechanics. Now there is an emphasis on particles, and structures on a galactic or intergalactic scale. Cosmology now is attempting to answer the same questions, but is focusing on different branches of physics. From classical mechanics to using the full spectrum of electromagnetic waves and quantum mechanics to determine what makes the universe tick."
      ],
      "metadata": {
        "id": "pXZoa6HQoe4J"
      }
    }
  ]
}
