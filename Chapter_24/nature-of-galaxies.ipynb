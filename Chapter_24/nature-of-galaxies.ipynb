{
 "cells": [
  {
   "attachments": {},
   "cell_type": "markdown",
   "metadata": {},
   "source": [
    "# The Nature of Galaxies\n",
    "\n",
    "## The Hubble Sequence\n",
    "In the mid-1700s, [Immanuel Kant](https://en.wikipedia.org/wiki/Immanuel_Kant) and [Thomas Wright](https://en.wikipedia.org/wiki/Thomas_Wright_(astronomer)) first suggested that the Milky Way represents a finite-sized disk-like system of stars.  Since their proposal, we have come to learn that a major component of our Galaxy is well represented by a disk of stars that also contains a significant amount of gas and dust.  Kant went on to suggest that if the Milky Way is limited in extent, perhaps the diffuse (and very faint) \"elliptical nebulae\" seen in the night sky might actually be extremely distant disk-like systems, similar to our own.  He called these objects *island universes*.\n",
    "\n",
    "### Cataloging the Island Universes\n",
    "The true nature of the island universes became a matter of much investigation.  Many of these objects are cataloged by [Charles Messier](https://en.wikipedia.org/wiki/Charles_Messier), who was actually hunting for comets, but recorded 103 fuzzy objects that could otherwise be confused as comets (but probably not comets, maybe).  Many members of the [Messier catalog](https://en.wikipedia.org/wiki/Messier_object) are truly gaseous nebulae contained within the Milky way (e.g., Crab supernova remnant, Orion Nebula, M1, and M42), and others are stellar clusters (e.g., Pleiades open cluster is M45 and globular cluster in Hercules is M13), the nature of other nebulae (e.g., M31 in Andromeda) was unknown.  Figure {numref}`{number}<messier-catalog>` shows all 103 objects originally cataloged by Messier and 7 additional objects added to his catalog by other astronomers.\n",
    "\n",
    "```{figure-md} messier-catalog\n",
    "<img src=\"https://upload.wikimedia.org/wikipedia/commons/thumb/9/91/All_messier_objects_%28numbered%29.jpg/1280px-All_messier_objects_%28numbered%29.jpg\" alt=\"messier catalog\"  width=\"500px\">\n",
    "\n",
    "Compilation of celestial objects Messier-1 up to Messier-110 made by an amateur astronomer, [Michael Philips](http://astromaphilli14.blogspot.com.br/p/m.html)  Image Credit:[Wikipedia:Messier_object](https://en.wikipedia.org/wiki/Messier_object). \n",
    "```\n",
    "\n",
    "<div align=\"center\">\n",
    "\n",
    "<iframe width=\"560\" height=\"315\"\n",
    "src=\"https://www.youtube.com/embed/_e3stRiqfbg\"\n",
    "frameborder=\"0\" \n",
    "allow=\"accelerometer; autoplay; encrypted-media; gyroscope; picture-in-picture\" \n",
    "allowfullscreen></iframe>\n",
    "\n",
    "</div>\n",
    "\n",
    "Another catalog was produced by [William Herschel](https://en.wikipedia.org/wiki/William_Herschel) and subsequently expanded by [John Herschel](https://en.wikipedia.org/wiki/John_Herschel) (his son) to include the souther hemisphere.  [John Dreyer](https://en.wikipedia.org/wiki/John_Louis_Emil_Dreyer) published the **New General Catalog** (NGC), which was based on the work by the Herschels and contained almost 8000 objects.  Like Messier's catalog, the NGC includes many entries that are either gaseous nebulae or stellar clusters located in the Milky Way.  Also there is some overlap between Messier's catalog and the NGC, where M31 is listed as NGC 224.  However, the true nature of the other objects in the catalog remained in question.\n",
    "\n",
    "In 1845, [William Parsons](https://en.wikipedia.org/wiki/William_Parsons,_3rd_Earl_of_Rosse) built what was then the largest telescope in the world (72-in called the \"Leviathan\").  It was able to resolve the spiral structure in some nebulae.  Their pinwheel appearance strongly suggested that these *spiral nebulae* were rotating.\n",
    "\n",
    "### The Great Shapley-Curtis Debate\n",
    "The argument over the nature of the nebulae centered on their distances from us and the relative size of the Galaxy.  Many astronomers believed that the spiral nebulae resided within the confines of th Milky Way, and others favored Kant's island universes.  On April 26, 1920, [Harlow Shapely](https://en.wikipedia.org/wiki/Harlow_Shapley) and [Heber Curtis](https://en.wikipedia.org/wiki/Heber_Doust_Curtis) met to argue the merits of each point of view, which is now known as the *Great Debate* in astronomy.  \n",
    "\n",
    "- Shapley supported the idea that the nebulae are members of our Galaxy.\n",
    "- Curtis was a proponent of the extragalactic interpretation, believing that the  nebulae were physically much like the Milky Way, but separated from it.\n",
    "\n",
    "One of Shapely's strongest points used the apparent magnitudes of novae observations in M31 and their relation to the angular size of M31.  His other major point was based on proper-motion measurements of M101 (taken by [Adrian van Maanen](https://en.wikipedia.org/wiki/Adriaan_van_Maanen)), which seemed to suggest an rotation rate of $0.02\\ \\rm ^{\\prime\\prime}/yr$.\n",
    "\n",
    "- If the disk of Andromeda were as large as the Milky way (${\\sim}100\\ \\rm kpc$ by his own estimates), then its angular size in the sky (${\\sim}3^\\circ \\times 1^\\circ$) would imply a distance to the nebula that was so large as to make the luminosities of the novae much greater than those found in the Milky Way.\n",
    "- If M101 had a diameter similar to Shapley's estimate for the Milky Way, then points near its outer edge would have rotational speed far in excess of those observed within the Milky Way.\n",
    "\n",
    "Curtis made arguments concerning the distance to M31 given the brightness of the novae.  Then he used measurements of the radial velocities, proper motions, and relative orientation of the spiral nebulae to make an inference on their distances.\n",
    "\n",
    "- The novae observed in the spiral novae must be *at least* $150\\ \\rm kpc$ away, if the intrinsic brightness is comparable to the Milky Way.  At that distance M31 would be smaller in diameter than Shapely's estimate (more similar to [Jacobus Kapteyn](https://en.wikipedia.org/wiki/Jacobus_Kapteyn)'s estimate).\n",
    "- The large radial velocities measured seemed to indicate that the nebulae could not remain gravitationally bound within a Kapteyn-model Milky Way.\n",
    "- Assuming that the transverse velocities are similar to the radial velocities of the nebulae, then if they were close enough to be located in the Milky Way, then it should be possible to measure their proper motions across the sky.  However, no such motions had been detected.\n",
    "- For those spiral nebulae that are oriented edge-on, dark absorption regions can be seen.  Curtis suggested that if the Milky Way had a similar dark layer, the zone of avoidance would be easily explained.\n",
    "\n",
    "In the end, neither set of arguments proved to be definitive.  Errors existed on both sides of the controversy (with the benefit of historical hindsight), but Shapley's arguments where the more flawed.  Shapely overestimated the size of the Milky Way's disk and he relied on van Maanen's data, which van Maanen later showed to be incorrect.\n",
    "\n",
    "The debate was finally settled in 123 when [Edwin Hubble](https://en.wikipedia.org/wiki/Edwin_Hubble) detected Cepheid variable stars in M31 using the 100-inch telescope at Mount Wilson.  By measuring their apparent magnitudes and determining their absolute magnitudes via the period-luminosity relation, he was able to use the distance modulus $m-M$ to calculate the distance to M31.  Hubble's original value of $285\\ \\rm kpc$ is ${\\sim}2.7\\times$ smaller than the modern estimate of $770\\ \\rm kpc$, but it was still good enough to show  definitively that the spiral nebulae are indeed island universes.\n",
    "\n",
    "\n",
    "<div align=\"center\">\n",
    "\n",
    "<iframe width=\"560\" height=\"315\"\n",
    "src=\"https://www.youtube.com/embed/0MJCqJPMpeY\"\n",
    "frameborder=\"0\" \n",
    "allow=\"accelerometer; autoplay; encrypted-media; gyroscope; picture-in-picture\" \n",
    "allowfullscreen></iframe>\n",
    "\n",
    "</div>\n"
   ]
  },
  {
   "cell_type": "markdown",
   "metadata": {},
   "source": [
    "\n",
    "### The Classification of Galaxies\n"
   ]
  },
  {
   "cell_type": "markdown",
   "metadata": {},
   "source": [
    "\n",
    "## Spiral and Irregular Galaxies\n",
    "\n",
    "### The $K$-Correction\n",
    "\n",
    "### The Brightness of the Background Sky\n",
    "\n",
    "### Isophotes and the de Vaucouleurs Profile\n",
    "\n",
    "### The Rotation Curves of Galaxies\n",
    "\n",
    "### The Tully-Fisher Relation\n",
    "\n",
    "### Radius-Luminosity Relation and Mass-to-Light Ratios\n",
    "\n",
    "### Colors and the Abundance of Gas and Dust\n",
    "\n",
    "### Metallicity and Color Gradients of Spirals\n",
    "\n",
    "### X-ray Luminosity\n",
    "\n",
    "### Supermassive Black Holes\n",
    "\n",
    "### Specific Frequency of Globular Clusters\n"
   ]
  },
  {
   "cell_type": "markdown",
   "metadata": {},
   "source": [
    "\n",
    "## Spiral Structure\n",
    "\n",
    "### Trailing and Leading Spiral Arms\n",
    "\n",
    "### The Winding Problem\n",
    "\n",
    "### The Lin-Shu Density Wave Theory\n",
    "\n",
    "### Small-amplitude Orbital Perturbations\n",
    "\n",
    "### Closed Orbits in Noninertial Frames\n",
    "\n",
    "### Nonlinear Effects in Density Wave Theory\n",
    "\n",
    "### Numerical $N$-Body Simulations\n",
    "\n",
    "### Stochastic, Self-Propagating Star Formation\n"
   ]
  },
  {
   "cell_type": "markdown",
   "metadata": {},
   "source": [
    "\n",
    "## Elliptical Galaxies\n",
    "\n",
    "### Morphological Classes\n",
    "\n",
    "### Dust and Gas\n",
    "\n",
    "### Metallicity and Color Gradients\n",
    "\n",
    "### The Faber-Jackson Relation\n",
    "\n",
    "### The Fundamental Plane\n",
    "\n",
    "### The Effects of Rotation\n",
    "\n",
    "### Correlations with Boxiness or Diskiness\n",
    "\n",
    "### The Relative Numbers of Galaxies of Various Hubble Types\n"
   ]
  },
  {
   "cell_type": "markdown",
   "metadata": {},
   "source": [
    "## **Homework**\n",
    "```{admonition} Problem 1\n",
    "Problem 1 goes here.\n",
    "```\n"
   ]
  }
 ],
 "metadata": {
  "interpreter": {
   "hash": "be4bb3c2f54353c26a4bcaba16037df563cd9cf9cf84d3cc553cf8d78d2d3996"
  },
  "kernelspec": {
   "display_name": "Python 3.8.8 ('base')",
   "language": "python",
   "name": "python3"
  },
  "language_info": {
   "codemirror_mode": {
    "name": "ipython",
    "version": 3
   },
   "file_extension": ".py",
   "mimetype": "text/x-python",
   "name": "python",
   "nbconvert_exporter": "python",
   "pygments_lexer": "ipython3",
   "version": "3.8.8 (default, Apr 13 2021, 15:08:03) [MSC v.1916 64 bit (AMD64)]"
  },
  "orig_nbformat": 4
 },
 "nbformat": 4,
 "nbformat_minor": 2
}
